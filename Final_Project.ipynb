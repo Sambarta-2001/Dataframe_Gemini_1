{
  "nbformat": 4,
  "nbformat_minor": 0,
  "metadata": {
    "colab": {
      "provenance": []
    },
    "kernelspec": {
      "name": "python3",
      "display_name": "Python 3"
    },
    "language_info": {
      "name": "python"
    }
  },
  "cells": [
    {
      "cell_type": "code",
      "execution_count": 1,
      "metadata": {
        "colab": {
          "base_uri": "https://localhost:8080/"
        },
        "id": "Gx0MwBuRrY3Y",
        "outputId": "bcf35aef-14dd-4750-a719-8e55a8ba39d5"
      },
      "outputs": [
        {
          "output_type": "stream",
          "name": "stdout",
          "text": [
            "Requirement already satisfied: google-generativeai in /usr/local/lib/python3.10/dist-packages (0.3.2)\n",
            "Requirement already satisfied: google-ai-generativelanguage==0.4.0 in /usr/local/lib/python3.10/dist-packages (from google-generativeai) (0.4.0)\n",
            "Requirement already satisfied: google-auth in /usr/local/lib/python3.10/dist-packages (from google-generativeai) (2.27.0)\n",
            "Requirement already satisfied: google-api-core in /usr/local/lib/python3.10/dist-packages (from google-generativeai) (2.11.1)\n",
            "Requirement already satisfied: typing-extensions in /usr/local/lib/python3.10/dist-packages (from google-generativeai) (4.11.0)\n",
            "Requirement already satisfied: protobuf in /usr/local/lib/python3.10/dist-packages (from google-generativeai) (3.20.3)\n",
            "Requirement already satisfied: tqdm in /usr/local/lib/python3.10/dist-packages (from google-generativeai) (4.66.2)\n",
            "Requirement already satisfied: proto-plus<2.0.0dev,>=1.22.3 in /usr/local/lib/python3.10/dist-packages (from google-ai-generativelanguage==0.4.0->google-generativeai) (1.23.0)\n",
            "Requirement already satisfied: googleapis-common-protos<2.0.dev0,>=1.56.2 in /usr/local/lib/python3.10/dist-packages (from google-api-core->google-generativeai) (1.63.0)\n",
            "Requirement already satisfied: requests<3.0.0.dev0,>=2.18.0 in /usr/local/lib/python3.10/dist-packages (from google-api-core->google-generativeai) (2.31.0)\n",
            "Requirement already satisfied: cachetools<6.0,>=2.0.0 in /usr/local/lib/python3.10/dist-packages (from google-auth->google-generativeai) (5.3.3)\n",
            "Requirement already satisfied: pyasn1-modules>=0.2.1 in /usr/local/lib/python3.10/dist-packages (from google-auth->google-generativeai) (0.4.0)\n",
            "Requirement already satisfied: rsa<5,>=3.1.4 in /usr/local/lib/python3.10/dist-packages (from google-auth->google-generativeai) (4.9)\n",
            "Requirement already satisfied: grpcio<2.0dev,>=1.33.2 in /usr/local/lib/python3.10/dist-packages (from google-api-core->google-generativeai) (1.62.1)\n",
            "Requirement already satisfied: grpcio-status<2.0.dev0,>=1.33.2 in /usr/local/lib/python3.10/dist-packages (from google-api-core->google-generativeai) (1.48.2)\n",
            "Requirement already satisfied: pyasn1<0.7.0,>=0.4.6 in /usr/local/lib/python3.10/dist-packages (from pyasn1-modules>=0.2.1->google-auth->google-generativeai) (0.6.0)\n",
            "Requirement already satisfied: charset-normalizer<4,>=2 in /usr/local/lib/python3.10/dist-packages (from requests<3.0.0.dev0,>=2.18.0->google-api-core->google-generativeai) (3.3.2)\n",
            "Requirement already satisfied: idna<4,>=2.5 in /usr/local/lib/python3.10/dist-packages (from requests<3.0.0.dev0,>=2.18.0->google-api-core->google-generativeai) (3.6)\n",
            "Requirement already satisfied: urllib3<3,>=1.21.1 in /usr/local/lib/python3.10/dist-packages (from requests<3.0.0.dev0,>=2.18.0->google-api-core->google-generativeai) (2.0.7)\n",
            "Requirement already satisfied: certifi>=2017.4.17 in /usr/local/lib/python3.10/dist-packages (from requests<3.0.0.dev0,>=2.18.0->google-api-core->google-generativeai) (2024.2.2)\n"
          ]
        }
      ],
      "source": [
        "!pip install google-generativeai"
      ]
    },
    {
      "cell_type": "code",
      "source": [
        "import pandas as pd\n",
        "import google.generativeai as genai\n",
        "\n",
        "# API Configuration (Replace with your API Key)\n",
        "genai.configure(api_key='google_api_key')\n",
        "\n",
        "# Model Selection\n",
        "model = genai.GenerativeModel('gemini-pro')\n",
        "\n",
        "def generate_code_from_user_input(df, user_input):\n",
        "    prompt = f\"Here's a DataFrame:\\n{df.to_string()}\\n\\nWrite Python code to achieve this: {user_input}\"\n",
        "    response = model.generate_content(prompt)\n",
        "\n",
        "    # Error handling\n",
        "    if not response.text or \"```\" not in response.text:\n",
        "        return \"Error: Unable to generate code from the given input.\"\n",
        "\n",
        "    # Extract and clean the code block\n",
        "    code_lines = response.text.split(\"```\")[1].strip().split(\"\\n\")\n",
        "    code_block = \"\\n\".join(code_lines[1:])  # Remove the first line (e.g., containing 'python')\n",
        "\n",
        "    return code_block\n",
        "\n",
        "# Sample DataFrame\n",
        "data = {\n",
        "    'Date': ['2024-04-07', '2024-04-08', '2024-04-09', '2024-04-10', '2024-04-11'],\n",
        "    'Open': [100, 105, 103, 108, 107],\n",
        "    'High': [110, 108, 107, 111, 109],\n",
        "    'Low': [99, 104, 102, 107, 106],\n",
        "    'Close': [109, 107, 105, 110, 108],\n",
        "    'Volume': [1000, 1500, 1200, 1400, 1300]\n",
        "}\n",
        "df = pd.DataFrame(data)\n",
        "df['Date'] = pd.to_datetime(df['Date'])\n",
        "\n",
        "user_inputs = [\n",
        "    \"give the top 3 highest price touching records\",\n",
        "    \"give the days on which close was higher than that of average closing price\",\n",
        "    \"what was max price touched\",\n",
        "    \"number of days when close was lower than open\",\n",
        "    \"successive days where close was higher than open\"\n",
        "]\n",
        "\n",
        "for user_input in user_inputs:\n",
        "    try:\n",
        "        generated_code = generate_code_from_user_input(df.copy(), user_input)\n",
        "        print(f\"User Input: {user_input}\")\n",
        "       # print(f\"Generated Code:\\n{generated_code}\")\n",
        "\n",
        "        # Optional: Add code validation here\n",
        "\n",
        "        # Safe execution\n",
        "        exec_namespace = {}\n",
        "        exec(generated_code, exec_namespace)\n",
        "        result = exec_namespace.get('result', \"No result found\")  # Handle potential absence of 'result'\n",
        "        print(f\"Result: {result}\\n\")\n",
        "\n",
        "    except Exception as e:\n",
        "        print(f\"Error processing input: {user_input}\")\n",
        "        print(f\"Error details: {e}\\n\")"
      ],
      "metadata": {
        "colab": {
          "base_uri": "https://localhost:8080/",
          "height": 607
        },
        "id": "ykK32_Bprcla",
        "outputId": "60f67d43-8e66-4047-a87a-3bcd66b023b9"
      },
      "execution_count": 3,
      "outputs": [
        {
          "output_type": "stream",
          "name": "stdout",
          "text": [
            "User Input: give the top 3 highest price touching records\n",
            "         Date  Open  High  Low  Close  Volume\n",
            "3  2024-04-10   108   111  107    110    1400\n",
            "0  2024-04-07   100   110   99    109    1000\n",
            "4  2024-04-11   107   109  106    108    1300\n",
            "Result: No result found\n",
            "\n",
            "User Input: give the days on which close was higher than that of average closing price\n",
            "         Date  Open  High  Low  Close  Volume\n",
            "0  2024-04-07   100   110   99    109    1000\n",
            "3  2024-04-10   108   111  107    110    1400\n",
            "4  2024-04-11   107   109  106    108    1300\n",
            "Result:          Date  Open  High  Low  Close  Volume\n",
            "0  2024-04-07   100   110   99    109    1000\n",
            "3  2024-04-10   108   111  107    110    1400\n",
            "4  2024-04-11   107   109  106    108    1300\n",
            "\n",
            "User Input: what was max price touched\n",
            "Error processing input: what was max price touched\n",
            "Error details: name 'df' is not defined\n",
            "\n",
            "User Input: number of days when close was lower than open\n",
            "Error processing input: number of days when close was lower than open\n",
            "Error details: name 'df' is not defined\n",
            "\n",
            "User Input: successive days where close was higher than open\n",
            "         Date  Open  High  Low  Close  Volume  CloseHigherThanOpen\n",
            "0  2024-04-07   100   110   99    109    1000                 True\n",
            "1  2024-04-08   105   108  104    107    1500                 True\n",
            "2  2024-04-09   103   107  102    105    1200                 True\n",
            "3  2024-04-10   108   111  107    110    1400                 True\n",
            "4  2024-04-11   107   109  106    108    1300                 True\n",
            "Result: No result found\n",
            "\n"
          ]
        }
      ]
    }
  ]
}
